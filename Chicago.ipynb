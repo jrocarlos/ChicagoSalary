{
  "cells": [
    {
      "cell_type": "code",
      "execution_count": 1,
      "metadata": {
        "id": "2DnVlj0kRzuJ"
      },
      "outputs": [],
      "source": [
        "import numpy as np\n",
        "import pandas as pd\n",
        "import matplotlib.pyplot as plt\n",
        "import seaborn as sns"
      ]
    },
    {
      "cell_type": "code",
      "execution_count": 2,
      "metadata": {
        "id": "9QZIJcD2VjoH"
      },
      "outputs": [],
      "source": [
        "df = pd.read_csv(\"salario.csv\")"
      ]
    },
    {
      "cell_type": "code",
      "execution_count": 3,
      "metadata": {
        "id": "maZBLCB5Vo10"
      },
      "outputs": [
        {
          "name": "stdout",
          "output_type": "stream",
          "text": [
            "Formato do DataFrame:  (31101, 8)\n"
          ]
        }
      ],
      "source": [
        "print(\"Formato do DataFrame: \", df.shape)"
      ]
    },
    {
      "cell_type": "code",
      "execution_count": 4,
      "metadata": {
        "id": "ApCFo-C3VrtE"
      },
      "outputs": [
        {
          "data": {
            "text/html": [
              "<div>\n",
              "<style scoped>\n",
              "    .dataframe tbody tr th:only-of-type {\n",
              "        vertical-align: middle;\n",
              "    }\n",
              "\n",
              "    .dataframe tbody tr th {\n",
              "        vertical-align: top;\n",
              "    }\n",
              "\n",
              "    .dataframe thead th {\n",
              "        text-align: right;\n",
              "    }\n",
              "</style>\n",
              "<table border=\"1\" class=\"dataframe\">\n",
              "  <thead>\n",
              "    <tr style=\"text-align: right;\">\n",
              "      <th></th>\n",
              "      <th>Name</th>\n",
              "      <th>Job Titles</th>\n",
              "      <th>Department</th>\n",
              "      <th>Full or Part-Time</th>\n",
              "      <th>Salary or Hourly</th>\n",
              "      <th>Typical Hours</th>\n",
              "      <th>Annual Salary</th>\n",
              "      <th>Hourly Rate</th>\n",
              "    </tr>\n",
              "  </thead>\n",
              "  <tbody>\n",
              "    <tr>\n",
              "      <th>0</th>\n",
              "      <td>AARON,  JEFFERY M</td>\n",
              "      <td>SERGEANT</td>\n",
              "      <td>POLICE</td>\n",
              "      <td>F</td>\n",
              "      <td>Salary</td>\n",
              "      <td>NaN</td>\n",
              "      <td>122568.0</td>\n",
              "      <td>NaN</td>\n",
              "    </tr>\n",
              "    <tr>\n",
              "      <th>1</th>\n",
              "      <td>AARON,  KARINA</td>\n",
              "      <td>POLICE OFFICER (ASSIGNED AS DETECTIVE)</td>\n",
              "      <td>POLICE</td>\n",
              "      <td>F</td>\n",
              "      <td>Salary</td>\n",
              "      <td>NaN</td>\n",
              "      <td>110796.0</td>\n",
              "      <td>NaN</td>\n",
              "    </tr>\n",
              "    <tr>\n",
              "      <th>2</th>\n",
              "      <td>ABAD JR,  VICENTE M</td>\n",
              "      <td>CIVIL ENGINEER IV</td>\n",
              "      <td>WATER MGMNT</td>\n",
              "      <td>F</td>\n",
              "      <td>Salary</td>\n",
              "      <td>NaN</td>\n",
              "      <td>122112.0</td>\n",
              "      <td>NaN</td>\n",
              "    </tr>\n",
              "    <tr>\n",
              "      <th>3</th>\n",
              "      <td>ABARCA,  EMMANUEL</td>\n",
              "      <td>CONCRETE LABORER</td>\n",
              "      <td>TRANSPORTN</td>\n",
              "      <td>F</td>\n",
              "      <td>Hourly</td>\n",
              "      <td>40.0</td>\n",
              "      <td>NaN</td>\n",
              "      <td>45.9</td>\n",
              "    </tr>\n",
              "    <tr>\n",
              "      <th>4</th>\n",
              "      <td>ABARCA,  FRANCES J</td>\n",
              "      <td>POLICE OFFICER</td>\n",
              "      <td>POLICE</td>\n",
              "      <td>F</td>\n",
              "      <td>Salary</td>\n",
              "      <td>NaN</td>\n",
              "      <td>86730.0</td>\n",
              "      <td>NaN</td>\n",
              "    </tr>\n",
              "  </tbody>\n",
              "</table>\n",
              "</div>"
            ],
            "text/plain": [
              "                  Name                              Job Titles   Department  \\\n",
              "0    AARON,  JEFFERY M                                SERGEANT       POLICE   \n",
              "1       AARON,  KARINA  POLICE OFFICER (ASSIGNED AS DETECTIVE)       POLICE   \n",
              "2  ABAD JR,  VICENTE M                       CIVIL ENGINEER IV  WATER MGMNT   \n",
              "3    ABARCA,  EMMANUEL                        CONCRETE LABORER   TRANSPORTN   \n",
              "4   ABARCA,  FRANCES J                          POLICE OFFICER       POLICE   \n",
              "\n",
              "  Full or Part-Time Salary or Hourly  Typical Hours  Annual Salary  \\\n",
              "0                 F           Salary            NaN       122568.0   \n",
              "1                 F           Salary            NaN       110796.0   \n",
              "2                 F           Salary            NaN       122112.0   \n",
              "3                 F           Hourly           40.0            NaN   \n",
              "4                 F           Salary            NaN        86730.0   \n",
              "\n",
              "   Hourly Rate  \n",
              "0          NaN  \n",
              "1          NaN  \n",
              "2          NaN  \n",
              "3         45.9  \n",
              "4          NaN  "
            ]
          },
          "execution_count": 4,
          "metadata": {},
          "output_type": "execute_result"
        }
      ],
      "source": [
        "df.head()"
      ]
    },
    {
      "cell_type": "code",
      "execution_count": 5,
      "metadata": {
        "id": "2E1eHYuyVyvs"
      },
      "outputs": [],
      "source": [
        "df_police = df[df.Department == \"POLICE\"].copy()"
      ]
    },
    {
      "cell_type": "code",
      "execution_count": 6,
      "metadata": {
        "id": "C8sk0d9LXTq-"
      },
      "outputs": [
        {
          "name": "stdout",
          "output_type": "stream",
          "text": [
            "Formato do DataFrame:  (12537, 8)\n"
          ]
        }
      ],
      "source": [
        "print(\"Formato do DataFrame: \", df_police.shape)"
      ]
    },
    {
      "cell_type": "code",
      "execution_count": 7,
      "metadata": {
        "id": "gBQceaXMXV8l"
      },
      "outputs": [
        {
          "data": {
            "text/html": [
              "<div>\n",
              "<style scoped>\n",
              "    .dataframe tbody tr th:only-of-type {\n",
              "        vertical-align: middle;\n",
              "    }\n",
              "\n",
              "    .dataframe tbody tr th {\n",
              "        vertical-align: top;\n",
              "    }\n",
              "\n",
              "    .dataframe thead th {\n",
              "        text-align: right;\n",
              "    }\n",
              "</style>\n",
              "<table border=\"1\" class=\"dataframe\">\n",
              "  <thead>\n",
              "    <tr style=\"text-align: right;\">\n",
              "      <th></th>\n",
              "      <th>Name</th>\n",
              "      <th>Job Titles</th>\n",
              "      <th>Department</th>\n",
              "      <th>Full or Part-Time</th>\n",
              "      <th>Salary or Hourly</th>\n",
              "      <th>Typical Hours</th>\n",
              "      <th>Annual Salary</th>\n",
              "      <th>Hourly Rate</th>\n",
              "    </tr>\n",
              "  </thead>\n",
              "  <tbody>\n",
              "    <tr>\n",
              "      <th>0</th>\n",
              "      <td>AARON,  JEFFERY M</td>\n",
              "      <td>SERGEANT</td>\n",
              "      <td>POLICE</td>\n",
              "      <td>F</td>\n",
              "      <td>Salary</td>\n",
              "      <td>NaN</td>\n",
              "      <td>122568.0</td>\n",
              "      <td>NaN</td>\n",
              "    </tr>\n",
              "    <tr>\n",
              "      <th>1</th>\n",
              "      <td>AARON,  KARINA</td>\n",
              "      <td>POLICE OFFICER (ASSIGNED AS DETECTIVE)</td>\n",
              "      <td>POLICE</td>\n",
              "      <td>F</td>\n",
              "      <td>Salary</td>\n",
              "      <td>NaN</td>\n",
              "      <td>110796.0</td>\n",
              "      <td>NaN</td>\n",
              "    </tr>\n",
              "    <tr>\n",
              "      <th>4</th>\n",
              "      <td>ABARCA,  FRANCES J</td>\n",
              "      <td>POLICE OFFICER</td>\n",
              "      <td>POLICE</td>\n",
              "      <td>F</td>\n",
              "      <td>Salary</td>\n",
              "      <td>NaN</td>\n",
              "      <td>86730.0</td>\n",
              "      <td>NaN</td>\n",
              "    </tr>\n",
              "    <tr>\n",
              "      <th>7</th>\n",
              "      <td>ABBATE,  TERRY M</td>\n",
              "      <td>POLICE OFFICER</td>\n",
              "      <td>POLICE</td>\n",
              "      <td>F</td>\n",
              "      <td>Salary</td>\n",
              "      <td>NaN</td>\n",
              "      <td>109236.0</td>\n",
              "      <td>NaN</td>\n",
              "    </tr>\n",
              "    <tr>\n",
              "      <th>9</th>\n",
              "      <td>ABBOTT,  CARMELLA</td>\n",
              "      <td>POLICE OFFICER</td>\n",
              "      <td>POLICE</td>\n",
              "      <td>F</td>\n",
              "      <td>Salary</td>\n",
              "      <td>NaN</td>\n",
              "      <td>90990.0</td>\n",
              "      <td>NaN</td>\n",
              "    </tr>\n",
              "  </tbody>\n",
              "</table>\n",
              "</div>"
            ],
            "text/plain": [
              "                 Name                              Job Titles Department  \\\n",
              "0   AARON,  JEFFERY M                                SERGEANT     POLICE   \n",
              "1      AARON,  KARINA  POLICE OFFICER (ASSIGNED AS DETECTIVE)     POLICE   \n",
              "4  ABARCA,  FRANCES J                          POLICE OFFICER     POLICE   \n",
              "7    ABBATE,  TERRY M                          POLICE OFFICER     POLICE   \n",
              "9   ABBOTT,  CARMELLA                          POLICE OFFICER     POLICE   \n",
              "\n",
              "  Full or Part-Time Salary or Hourly  Typical Hours  Annual Salary  \\\n",
              "0                 F           Salary            NaN       122568.0   \n",
              "1                 F           Salary            NaN       110796.0   \n",
              "4                 F           Salary            NaN        86730.0   \n",
              "7                 F           Salary            NaN       109236.0   \n",
              "9                 F           Salary            NaN        90990.0   \n",
              "\n",
              "   Hourly Rate  \n",
              "0          NaN  \n",
              "1          NaN  \n",
              "4          NaN  \n",
              "7          NaN  \n",
              "9          NaN  "
            ]
          },
          "execution_count": 7,
          "metadata": {},
          "output_type": "execute_result"
        }
      ],
      "source": [
        "df_police.head()"
      ]
    },
    {
      "cell_type": "code",
      "execution_count": 8,
      "metadata": {
        "id": "fSPPioc5Hk5Z"
      },
      "outputs": [
        {
          "data": {
            "text/plain": [
              "array(['Name', 'Job Titles', 'Department', 'Full or Part-Time',\n",
              "       'Salary or Hourly', 'Typical Hours', 'Annual Salary',\n",
              "       'Hourly Rate'], dtype=object)"
            ]
          },
          "execution_count": 8,
          "metadata": {},
          "output_type": "execute_result"
        }
      ],
      "source": [
        "df_police.columns.values"
      ]
    },
    {
      "cell_type": "code",
      "execution_count": 9,
      "metadata": {
        "id": "e98EZZJ2IGkJ"
      },
      "outputs": [],
      "source": [
        "df_police.columns = ['Name', 'Titles', 'Department', 'Full or Part-Time','Salary or Hourly', 'Typical Hours', 'Annual Salary','Hourly Rate']"
      ]
    },
    {
      "cell_type": "code",
      "execution_count": 10,
      "metadata": {
        "id": "qxDkGsqSIhnh"
      },
      "outputs": [
        {
          "data": {
            "text/plain": [
              "array(['Name', 'Titles', 'Department', 'Full or Part-Time',\n",
              "       'Salary or Hourly', 'Typical Hours', 'Annual Salary',\n",
              "       'Hourly Rate'], dtype=object)"
            ]
          },
          "execution_count": 10,
          "metadata": {},
          "output_type": "execute_result"
        }
      ],
      "source": [
        "df_police.columns.values"
      ]
    },
    {
      "cell_type": "code",
      "execution_count": 11,
      "metadata": {
        "id": "n2XZEnPFYIbA"
      },
      "outputs": [
        {
          "name": "stdout",
          "output_type": "stream",
          "text": [
            "--> POLICE:\n"
          ]
        },
        {
          "data": {
            "text/plain": [
              "Name                     0\n",
              "Titles                   0\n",
              "Department               0\n",
              "Full or Part-Time        0\n",
              "Salary or Hourly         0\n",
              "Typical Hours        12528\n",
              "Annual Salary            9\n",
              "Hourly Rate          12528\n",
              "dtype: int64"
            ]
          },
          "metadata": {},
          "output_type": "display_data"
        },
        {
          "name": "stdout",
          "output_type": "stream",
          "text": [
            "\n",
            " --.--.--.--.--.--.--.--.--.--. \n",
            "\n"
          ]
        }
      ],
      "source": [
        "print(\"--> POLICE:\")\n",
        "display(df_police.isnull().sum())\n",
        "\n",
        "print(\"\\n\", \"--.\" * 10, \"\\n\")"
      ]
    },
    {
      "cell_type": "code",
      "execution_count": 12,
      "metadata": {
        "id": "70KGB97T9zZF"
      },
      "outputs": [],
      "source": [
        "df_police = df_police[df_police['Annual Salary'].notna()]"
      ]
    },
    {
      "cell_type": "code",
      "execution_count": 13,
      "metadata": {
        "id": "KyzAIlRy-r46"
      },
      "outputs": [
        {
          "name": "stdout",
          "output_type": "stream",
          "text": [
            "--> POLICE:\n"
          ]
        },
        {
          "data": {
            "text/plain": [
              "Name                     0\n",
              "Titles                   0\n",
              "Department               0\n",
              "Full or Part-Time        0\n",
              "Salary or Hourly         0\n",
              "Typical Hours        12528\n",
              "Annual Salary            0\n",
              "Hourly Rate          12528\n",
              "dtype: int64"
            ]
          },
          "metadata": {},
          "output_type": "display_data"
        },
        {
          "name": "stdout",
          "output_type": "stream",
          "text": [
            "\n",
            " --.--.--.--.--.--.--.--.--.--. \n",
            "\n"
          ]
        }
      ],
      "source": [
        "print(\"--> POLICE:\")\n",
        "display(df_police.isnull().sum())\n",
        "\n",
        "print(\"\\n\", \"--.\" * 10, \"\\n\")"
      ]
    },
    {
      "cell_type": "code",
      "execution_count": 14,
      "metadata": {
        "id": "Y93KjehbJOz4"
      },
      "outputs": [
        {
          "name": "stdout",
          "output_type": "stream",
          "text": [
            "Número de cargos:  96\n"
          ]
        }
      ],
      "source": [
        "jobxx = df_police.Titles.unique()\n",
        "print(\"Número de cargos: \",len(jobxx))"
      ]
    },
    {
      "cell_type": "code",
      "execution_count": 23,
      "metadata": {},
      "outputs": [
        {
          "data": {
            "text/html": [
              "<div>\n",
              "<style scoped>\n",
              "    .dataframe tbody tr th:only-of-type {\n",
              "        vertical-align: middle;\n",
              "    }\n",
              "\n",
              "    .dataframe tbody tr th {\n",
              "        vertical-align: top;\n",
              "    }\n",
              "\n",
              "    .dataframe thead th {\n",
              "        text-align: right;\n",
              "    }\n",
              "</style>\n",
              "<table border=\"1\" class=\"dataframe\">\n",
              "  <thead>\n",
              "    <tr style=\"text-align: right;\">\n",
              "      <th></th>\n",
              "      <th>Annual Salary</th>\n",
              "    </tr>\n",
              "    <tr>\n",
              "      <th>Titles</th>\n",
              "      <th></th>\n",
              "    </tr>\n",
              "  </thead>\n",
              "  <tbody>\n",
              "    <tr>\n",
              "      <th>ACCOUNTANT</th>\n",
              "      <td>281064.0</td>\n",
              "    </tr>\n",
              "    <tr>\n",
              "      <th>ADMINISTRATIVE ASST II</th>\n",
              "      <td>364176.0</td>\n",
              "    </tr>\n",
              "    <tr>\n",
              "      <th>ADMINISTRATIVE ASST III</th>\n",
              "      <td>280980.0</td>\n",
              "    </tr>\n",
              "    <tr>\n",
              "      <th>AREA COORD - CAPS</th>\n",
              "      <td>269040.0</td>\n",
              "    </tr>\n",
              "    <tr>\n",
              "      <th>ASSOCIATE STAFF ATTORNEY</th>\n",
              "      <td>64896.0</td>\n",
              "    </tr>\n",
              "    <tr>\n",
              "      <th>...</th>\n",
              "      <td>...</td>\n",
              "    </tr>\n",
              "    <tr>\n",
              "      <th>SUPERINTENDENT'S CHIEF OF STAFF</th>\n",
              "      <td>189252.0</td>\n",
              "    </tr>\n",
              "    <tr>\n",
              "      <th>SUPERVISING PROPERTY CUSTODIAN</th>\n",
              "      <td>170688.0</td>\n",
              "    </tr>\n",
              "    <tr>\n",
              "      <th>TRAINING OFFICER</th>\n",
              "      <td>1284672.0</td>\n",
              "    </tr>\n",
              "    <tr>\n",
              "      <th>WARRANT AND EXTRADITION AIDE</th>\n",
              "      <td>506316.0</td>\n",
              "    </tr>\n",
              "    <tr>\n",
              "      <th>YOUTH SERVICES COORD</th>\n",
              "      <td>302676.0</td>\n",
              "    </tr>\n",
              "  </tbody>\n",
              "</table>\n",
              "<p>96 rows × 1 columns</p>\n",
              "</div>"
            ],
            "text/plain": [
              "                                 Annual Salary\n",
              "Titles                                        \n",
              "ACCOUNTANT                            281064.0\n",
              "ADMINISTRATIVE ASST II                364176.0\n",
              "ADMINISTRATIVE ASST III               280980.0\n",
              "AREA COORD - CAPS                     269040.0\n",
              "ASSOCIATE STAFF ATTORNEY               64896.0\n",
              "...                                        ...\n",
              "SUPERINTENDENT'S CHIEF OF STAFF       189252.0\n",
              "SUPERVISING PROPERTY CUSTODIAN        170688.0\n",
              "TRAINING OFFICER                     1284672.0\n",
              "WARRANT AND EXTRADITION AIDE          506316.0\n",
              "YOUTH SERVICES COORD                  302676.0\n",
              "\n",
              "[96 rows x 1 columns]"
            ]
          },
          "execution_count": 23,
          "metadata": {},
          "output_type": "execute_result"
        }
      ],
      "source": [
        "df_police.groupby('Titles')[['Annual Salary']].sum()"
      ]
    },
    {
      "cell_type": "code",
      "execution_count": null,
      "metadata": {
        "id": "cFp6dkEEYqCh"
      },
      "outputs": [],
      "source": [
        "jobxx = df_police.Titles.unique()\n",
        "salary_police_mean = df_police.groupby('Titles')['Annual Salary'].mean()\n",
        "ax = sns.barplot(x=jobxx, y=salary_police_mean)\n",
        "plt.xticks(rotation=90)\n",
        "plt.legend(title=\"Average Pay\")\n",
        "plt.show()"
      ]
    },
    {
      "cell_type": "code",
      "execution_count": null,
      "metadata": {
        "id": "nVPegv59VwhO"
      },
      "outputs": [],
      "source": [
        "msalary = df_police['Annual Salary'].mean()\n",
        "maxsalary = df_police['Annual Salary'].max()\n",
        "minsalary = df_police['Annual Salary'].min()\n",
        "print(\"Média de salário: \", msalary, \"Máximo de salário: \" , maxsalary, \"Mínimo de salário: \", minsalary)"
      ]
    },
    {
      "cell_type": "code",
      "execution_count": null,
      "metadata": {
        "id": "NK82v-nnc9Gj"
      },
      "outputs": [],
      "source": [
        "salary_police_mean = df_police.groupby('Titles')['Annual Salary'].mean()\n",
        "ax = sns.barplot(x=jobxx, y=salary_police_mean)\n",
        "plt.xticks(rotation=90)\n",
        "plt.legend(title=\"Average Pay\")\n",
        "plt.show()"
      ]
    }
  ],
  "metadata": {
    "colab": {
      "collapsed_sections": [],
      "name": "Chicago.ipynb",
      "provenance": []
    },
    "kernelspec": {
      "display_name": "Python 3.9.2 64-bit",
      "language": "python",
      "name": "python3"
    },
    "language_info": {
      "codemirror_mode": {
        "name": "ipython",
        "version": 3
      },
      "file_extension": ".py",
      "mimetype": "text/x-python",
      "name": "python",
      "nbconvert_exporter": "python",
      "pygments_lexer": "ipython3",
      "version": "3.9.2"
    },
    "vscode": {
      "interpreter": {
        "hash": "11938c6bc6919ae2720b4d5011047913343b08a43b18698fd82dedb0d4417594"
      }
    }
  },
  "nbformat": 4,
  "nbformat_minor": 0
}
