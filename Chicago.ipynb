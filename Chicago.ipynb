{
  "cells": [
    {
      "cell_type": "code",
      "execution_count": null,
      "metadata": {
        "id": "2DnVlj0kRzuJ"
      },
      "outputs": [],
      "source": [
        "import numpy as np\n",
        "import pandas as pd\n",
        "import matplotlib.pyplot as plt\n",
        "import seaborn as sns"
      ]
    },
    {
      "cell_type": "code",
      "execution_count": null,
      "metadata": {
        "id": "9QZIJcD2VjoH"
      },
      "outputs": [],
      "source": [
        "df = pd.read_csv(\"salario.csv\")"
      ]
    },
    {
      "cell_type": "code",
      "execution_count": null,
      "metadata": {
        "id": "maZBLCB5Vo10"
      },
      "outputs": [],
      "source": [
        "print(\"Formato do DataFrame: \", df.shape)"
      ]
    },
    {
      "cell_type": "code",
      "execution_count": null,
      "metadata": {
        "id": "ApCFo-C3VrtE"
      },
      "outputs": [],
      "source": [
        "df.head()"
      ]
    },
    {
      "cell_type": "code",
      "execution_count": null,
      "metadata": {
        "id": "2E1eHYuyVyvs"
      },
      "outputs": [],
      "source": [
        "df_police = df[df.Department == \"POLICE\"].copy()"
      ]
    },
    {
      "cell_type": "code",
      "execution_count": null,
      "metadata": {
        "id": "C8sk0d9LXTq-"
      },
      "outputs": [],
      "source": [
        "print(\"Formato do DataFrame: \", df_police.shape)"
      ]
    },
    {
      "cell_type": "code",
      "execution_count": null,
      "metadata": {
        "id": "gBQceaXMXV8l"
      },
      "outputs": [],
      "source": [
        "df_police.head()"
      ]
    },
    {
      "cell_type": "code",
      "execution_count": null,
      "metadata": {
        "id": "fSPPioc5Hk5Z"
      },
      "outputs": [],
      "source": [
        "df_police.columns.values"
      ]
    },
    {
      "cell_type": "code",
      "execution_count": null,
      "metadata": {
        "id": "e98EZZJ2IGkJ"
      },
      "outputs": [],
      "source": [
        "df_police.columns = ['Name', 'Titles', 'Department', 'Full or Part-Time','Salary or Hourly', 'Typical Hours', 'Annual Salary','Hourly Rate']"
      ]
    },
    {
      "cell_type": "code",
      "execution_count": null,
      "metadata": {
        "id": "qxDkGsqSIhnh"
      },
      "outputs": [],
      "source": [
        "df_police.columns.values"
      ]
    },
    {
      "cell_type": "code",
      "execution_count": null,
      "metadata": {
        "id": "n2XZEnPFYIbA"
      },
      "outputs": [],
      "source": [
        "print(\"--> POLICE:\")\n",
        "display(df_police.isnull().sum())\n",
        "\n",
        "print(\"\\n\", \"--.\" * 10, \"\\n\")"
      ]
    },
    {
      "cell_type": "code",
      "execution_count": null,
      "metadata": {
        "id": "70KGB97T9zZF"
      },
      "outputs": [],
      "source": [
        "df_police = df_police[df_police['Annual Salary'].notna()]"
      ]
    },
    {
      "cell_type": "code",
      "execution_count": null,
      "metadata": {
        "id": "KyzAIlRy-r46"
      },
      "outputs": [],
      "source": [
        "print(\"--> POLICE:\")\n",
        "display(df_police.isnull().sum())\n",
        "\n",
        "print(\"\\n\", \"--.\" * 10, \"\\n\")"
      ]
    },
    {
      "cell_type": "code",
      "execution_count": null,
      "metadata": {
        "id": "Y93KjehbJOz4"
      },
      "outputs": [],
      "source": [
        "jobxx = df_police.Titles.unique()\n",
        "print(\"Número de cargos: \",len(jobxx))"
      ]
    },
    {
      "cell_type": "code",
      "execution_count": null,
      "metadata": {
        "id": "cFp6dkEEYqCh"
      },
      "outputs": [],
      "source": [
        "jobxx = df_police.Titles.unique()\n",
        "salary_police_mean = df_police.groupby('Titles')['Annual Salary'].mean()\n",
        "ax = sns.barplot(x=jobxx, y=salary_police_mean)\n",
        "plt.xticks(rotation=90)\n",
        "plt.legend(title=\"Average Pay\")\n",
        "plt.show()"
      ]
    },
    {
      "cell_type": "code",
      "execution_count": null,
      "metadata": {
        "id": "nVPegv59VwhO"
      },
      "outputs": [],
      "source": [
        "msalary = df_police['Annual Salary'].mean()\n",
        "maxsalary = df_police['Annual Salary'].max()\n",
        "minsalary = df_police['Annual Salary'].min()\n",
        "print(\"Média de salário: \", msalary, \"Máximo de salário: \" , maxsalary, \"Mínimo de salário: \", minsalary)"
      ]
    },
    {
      "cell_type": "code",
      "execution_count": null,
      "metadata": {
        "id": "NK82v-nnc9Gj"
      },
      "outputs": [],
      "source": [
        "salary_police_mean = df_police.groupby('Titles')['Annual Salary'].mean()\n",
        "ax = sns.barplot(x=jobxx, y=salary_police_mean)\n",
        "plt.xticks(rotation=90)\n",
        "plt.legend(title=\"Average Pay\")\n",
        "plt.show()"
      ]
    }
  ],
  "metadata": {
    "colab": {
      "collapsed_sections": [],
      "name": "Chicago.ipynb",
      "provenance": []
    },
    "kernelspec": {
      "display_name": "Python 3.9.2 64-bit",
      "language": "python",
      "name": "python3"
    },
    "language_info": {
      "codemirror_mode": {
        "name": "ipython",
        "version": 3
      },
      "file_extension": ".py",
      "mimetype": "text/x-python",
      "name": "python",
      "nbconvert_exporter": "python",
      "pygments_lexer": "ipython3",
      "version": "3.9.2"
    },
    "vscode": {
      "interpreter": {
        "hash": "11938c6bc6919ae2720b4d5011047913343b08a43b18698fd82dedb0d4417594"
      }
    }
  },
  "nbformat": 4,
  "nbformat_minor": 0
}
