{
  "nbformat": 4,
  "nbformat_minor": 0,
  "metadata": {
    "colab": {
      "name": "Chicago.ipynb",
      "provenance": [],
      "collapsed_sections": []
    },
    "kernelspec": {
      "name": "python3",
      "display_name": "Python 3"
    },
    "language_info": {
      "name": "python"
    }
  },
  "cells": [
    {
      "cell_type": "code",
      "source": [
        "import numpy as np\n",
        "import pandas as pd\n",
        "import matplotlib.pyplot as plt\n",
        "import seaborn as sns"
      ],
      "metadata": {
        "id": "2DnVlj0kRzuJ"
      },
      "execution_count": 1,
      "outputs": []
    },
    {
      "cell_type": "code",
      "source": [
        "df = pd.read_csv(\"salario.csv\")"
      ],
      "metadata": {
        "id": "9QZIJcD2VjoH"
      },
      "execution_count": 2,
      "outputs": []
    },
    {
      "cell_type": "code",
      "source": [
        "print(\"Formato do DataFrame: \", df.shape)"
      ],
      "metadata": {
        "id": "maZBLCB5Vo10"
      },
      "execution_count": null,
      "outputs": []
    },
    {
      "cell_type": "code",
      "source": [
        "df.head()"
      ],
      "metadata": {
        "id": "ApCFo-C3VrtE"
      },
      "execution_count": null,
      "outputs": []
    },
    {
      "cell_type": "code",
      "source": [
        "df_police = df[df.Department == \"POLICE\"].copy()"
      ],
      "metadata": {
        "id": "2E1eHYuyVyvs"
      },
      "execution_count": 5,
      "outputs": []
    },
    {
      "cell_type": "code",
      "source": [
        "print(\"Formato do DataFrame: \", df_police.shape)"
      ],
      "metadata": {
        "id": "C8sk0d9LXTq-"
      },
      "execution_count": null,
      "outputs": []
    },
    {
      "cell_type": "code",
      "source": [
        "df_police.head()"
      ],
      "metadata": {
        "id": "gBQceaXMXV8l"
      },
      "execution_count": null,
      "outputs": []
    },
    {
      "cell_type": "code",
      "source": [
        "df_police.columns.values"
      ],
      "metadata": {
        "id": "fSPPioc5Hk5Z"
      },
      "execution_count": null,
      "outputs": []
    },
    {
      "cell_type": "code",
      "source": [
        "df_police.columns = ['Name', 'Titles', 'Department', 'Full or Part-Time','Salary or Hourly', 'Typical Hours', 'Annual Salary','Hourly Rate']"
      ],
      "metadata": {
        "id": "e98EZZJ2IGkJ"
      },
      "execution_count": 9,
      "outputs": []
    },
    {
      "cell_type": "code",
      "source": [
        "df_police.columns.values"
      ],
      "metadata": {
        "id": "qxDkGsqSIhnh"
      },
      "execution_count": null,
      "outputs": []
    },
    {
      "cell_type": "code",
      "source": [
        "print(\"--> POLICE:\")\n",
        "display(df_police.isnull().sum())\n",
        "\n",
        "print(\"\\n\", \"--.\" * 10, \"\\n\")"
      ],
      "metadata": {
        "id": "n2XZEnPFYIbA"
      },
      "execution_count": null,
      "outputs": []
    },
    {
      "cell_type": "code",
      "source": [
        "df_police = df_police[df_police['Annual Salary'].notna()]"
      ],
      "metadata": {
        "id": "70KGB97T9zZF"
      },
      "execution_count": 12,
      "outputs": []
    },
    {
      "cell_type": "code",
      "source": [
        "print(\"Formato do DataFrame: \", df_police.shape)"
      ],
      "metadata": {
        "id": "N_XLu_AwAAhB"
      },
      "execution_count": null,
      "outputs": []
    },
    {
      "cell_type": "code",
      "source": [
        "print(\"--> POLICE:\")\n",
        "display(df_police.isnull().sum())\n",
        "\n",
        "print(\"\\n\", \"--.\" * 10, \"\\n\")"
      ],
      "metadata": {
        "id": "KyzAIlRy-r46"
      },
      "execution_count": null,
      "outputs": []
    },
    {
      "cell_type": "code",
      "source": [
        "jobxx = df_police.Titles.unique()\n",
        "print(\"Número de cargos: \",len(jobxx))"
      ],
      "metadata": {
        "id": "Y93KjehbJOz4"
      },
      "execution_count": null,
      "outputs": []
    },
    {
      "cell_type": "code",
      "source": [
        "jobxx = df_police.Titles.unique()\n",
        "salary_police_mean = df_police.groupby('Titles')['Annual Salary'].mean()\n",
        "ax = sns.barplot(x=jobxx, y=salary_police_mean)\n",
        "plt.xticks(rotation=90)\n",
        "plt.legend(title=\"Average Pay\")\n",
        "plt.show()"
      ],
      "metadata": {
        "id": "cFp6dkEEYqCh"
      },
      "execution_count": null,
      "outputs": []
    },
    {
      "cell_type": "code",
      "source": [
        "msalary = df_police['Annual Salary'].mean()\n",
        "maxsalary = df_police['Annual Salary'].max()\n",
        "minsalary = df_police['Annual Salary'].min()\n",
        "print(\"Média de salário: \", msalary, \"Máximo de salário: \" , maxsalary, \"Mínimo de salário: \", minsalary)"
      ],
      "metadata": {
        "id": "nVPegv59VwhO"
      },
      "execution_count": null,
      "outputs": []
    },
    {
      "cell_type": "code",
      "source": [
        "salary_police_mean = df_police.groupby('Titles')['Annual Salary'].mean()\n",
        "ax = sns.barplot(x=jobxx, y=salary_police_mean)\n",
        "plt.xticks(rotation=90)\n",
        "plt.legend(title=\"Average Pay\")\n",
        "plt.show()"
      ],
      "metadata": {
        "id": "NK82v-nnc9Gj"
      },
      "execution_count": null,
      "outputs": []
    }
  ]
}