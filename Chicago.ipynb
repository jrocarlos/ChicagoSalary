{
  "cells": [
    {
      "cell_type": "code",
      "execution_count": 1,
      "metadata": {
        "id": "2DnVlj0kRzuJ"
      },
      "outputs": [],
      "source": [
        "import numpy as np\n",
        "import pandas as pd\n",
        "import matplotlib.pyplot as plt\n",
        "import seaborn as sns"
      ]
    },
    {
      "cell_type": "code",
      "execution_count": 2,
      "metadata": {
        "id": "9QZIJcD2VjoH"
      },
      "outputs": [],
      "source": [
        "df = pd.read_csv(\"salario.csv\")"
      ]
    },
    {
      "cell_type": "code",
      "execution_count": 3,
      "metadata": {
        "id": "maZBLCB5Vo10"
      },
      "outputs": [
        {
          "name": "stdout",
          "output_type": "stream",
          "text": [
            "Formato do DataFrame:  (31101, 8)\n"
          ]
        }
      ],
      "source": [
        "print(\"Formato do DataFrame: \", df.shape)"
      ]
    },
    {
      "cell_type": "code",
      "execution_count": 4,
      "metadata": {
        "id": "ApCFo-C3VrtE"
      },
      "outputs": [
        {
          "data": {
            "text/html": [
              "<div>\n",
              "<style scoped>\n",
              "    .dataframe tbody tr th:only-of-type {\n",
              "        vertical-align: middle;\n",
              "    }\n",
              "\n",
              "    .dataframe tbody tr th {\n",
              "        vertical-align: top;\n",
              "    }\n",
              "\n",
              "    .dataframe thead th {\n",
              "        text-align: right;\n",
              "    }\n",
              "</style>\n",
              "<table border=\"1\" class=\"dataframe\">\n",
              "  <thead>\n",
              "    <tr style=\"text-align: right;\">\n",
              "      <th></th>\n",
              "      <th>Name</th>\n",
              "      <th>Job Titles</th>\n",
              "      <th>Department</th>\n",
              "      <th>Full or Part-Time</th>\n",
              "      <th>Salary or Hourly</th>\n",
              "      <th>Typical Hours</th>\n",
              "      <th>Annual Salary</th>\n",
              "      <th>Hourly Rate</th>\n",
              "    </tr>\n",
              "  </thead>\n",
              "  <tbody>\n",
              "    <tr>\n",
              "      <th>0</th>\n",
              "      <td>AARON,  JEFFERY M</td>\n",
              "      <td>SERGEANT</td>\n",
              "      <td>POLICE</td>\n",
              "      <td>F</td>\n",
              "      <td>Salary</td>\n",
              "      <td>NaN</td>\n",
              "      <td>122568.0</td>\n",
              "      <td>NaN</td>\n",
              "    </tr>\n",
              "    <tr>\n",
              "      <th>1</th>\n",
              "      <td>AARON,  KARINA</td>\n",
              "      <td>POLICE OFFICER (ASSIGNED AS DETECTIVE)</td>\n",
              "      <td>POLICE</td>\n",
              "      <td>F</td>\n",
              "      <td>Salary</td>\n",
              "      <td>NaN</td>\n",
              "      <td>110796.0</td>\n",
              "      <td>NaN</td>\n",
              "    </tr>\n",
              "    <tr>\n",
              "      <th>2</th>\n",
              "      <td>ABAD JR,  VICENTE M</td>\n",
              "      <td>CIVIL ENGINEER IV</td>\n",
              "      <td>WATER MGMNT</td>\n",
              "      <td>F</td>\n",
              "      <td>Salary</td>\n",
              "      <td>NaN</td>\n",
              "      <td>122112.0</td>\n",
              "      <td>NaN</td>\n",
              "    </tr>\n",
              "    <tr>\n",
              "      <th>3</th>\n",
              "      <td>ABARCA,  EMMANUEL</td>\n",
              "      <td>CONCRETE LABORER</td>\n",
              "      <td>TRANSPORTN</td>\n",
              "      <td>F</td>\n",
              "      <td>Hourly</td>\n",
              "      <td>40.0</td>\n",
              "      <td>NaN</td>\n",
              "      <td>45.9</td>\n",
              "    </tr>\n",
              "    <tr>\n",
              "      <th>4</th>\n",
              "      <td>ABARCA,  FRANCES J</td>\n",
              "      <td>POLICE OFFICER</td>\n",
              "      <td>POLICE</td>\n",
              "      <td>F</td>\n",
              "      <td>Salary</td>\n",
              "      <td>NaN</td>\n",
              "      <td>86730.0</td>\n",
              "      <td>NaN</td>\n",
              "    </tr>\n",
              "  </tbody>\n",
              "</table>\n",
              "</div>"
            ],
            "text/plain": [
              "                  Name                              Job Titles   Department  \\\n",
              "0    AARON,  JEFFERY M                                SERGEANT       POLICE   \n",
              "1       AARON,  KARINA  POLICE OFFICER (ASSIGNED AS DETECTIVE)       POLICE   \n",
              "2  ABAD JR,  VICENTE M                       CIVIL ENGINEER IV  WATER MGMNT   \n",
              "3    ABARCA,  EMMANUEL                        CONCRETE LABORER   TRANSPORTN   \n",
              "4   ABARCA,  FRANCES J                          POLICE OFFICER       POLICE   \n",
              "\n",
              "  Full or Part-Time Salary or Hourly  Typical Hours  Annual Salary  \\\n",
              "0                 F           Salary            NaN       122568.0   \n",
              "1                 F           Salary            NaN       110796.0   \n",
              "2                 F           Salary            NaN       122112.0   \n",
              "3                 F           Hourly           40.0            NaN   \n",
              "4                 F           Salary            NaN        86730.0   \n",
              "\n",
              "   Hourly Rate  \n",
              "0          NaN  \n",
              "1          NaN  \n",
              "2          NaN  \n",
              "3         45.9  \n",
              "4          NaN  "
            ]
          },
          "execution_count": 4,
          "metadata": {},
          "output_type": "execute_result"
        }
      ],
      "source": [
        "df.head()"
      ]
    },
    {
      "cell_type": "code",
      "execution_count": 5,
      "metadata": {
        "id": "2E1eHYuyVyvs"
      },
      "outputs": [],
      "source": [
        "df_police = df[df.Department == \"POLICE\"].copy()"
      ]
    },
    {
      "cell_type": "code",
      "execution_count": 6,
      "metadata": {
        "id": "C8sk0d9LXTq-"
      },
      "outputs": [
        {
          "name": "stdout",
          "output_type": "stream",
          "text": [
            "Formato do DataFrame:  (12537, 8)\n"
          ]
        }
      ],
      "source": [
        "print(\"Formato do DataFrame: \", df_police.shape)"
      ]
    },
    {
      "cell_type": "code",
      "execution_count": 7,
      "metadata": {
        "id": "gBQceaXMXV8l"
      },
      "outputs": [
        {
          "data": {
            "text/html": [
              "<div>\n",
              "<style scoped>\n",
              "    .dataframe tbody tr th:only-of-type {\n",
              "        vertical-align: middle;\n",
              "    }\n",
              "\n",
              "    .dataframe tbody tr th {\n",
              "        vertical-align: top;\n",
              "    }\n",
              "\n",
              "    .dataframe thead th {\n",
              "        text-align: right;\n",
              "    }\n",
              "</style>\n",
              "<table border=\"1\" class=\"dataframe\">\n",
              "  <thead>\n",
              "    <tr style=\"text-align: right;\">\n",
              "      <th></th>\n",
              "      <th>Name</th>\n",
              "      <th>Job Titles</th>\n",
              "      <th>Department</th>\n",
              "      <th>Full or Part-Time</th>\n",
              "      <th>Salary or Hourly</th>\n",
              "      <th>Typical Hours</th>\n",
              "      <th>Annual Salary</th>\n",
              "      <th>Hourly Rate</th>\n",
              "    </tr>\n",
              "  </thead>\n",
              "  <tbody>\n",
              "    <tr>\n",
              "      <th>0</th>\n",
              "      <td>AARON,  JEFFERY M</td>\n",
              "      <td>SERGEANT</td>\n",
              "      <td>POLICE</td>\n",
              "      <td>F</td>\n",
              "      <td>Salary</td>\n",
              "      <td>NaN</td>\n",
              "      <td>122568.0</td>\n",
              "      <td>NaN</td>\n",
              "    </tr>\n",
              "    <tr>\n",
              "      <th>1</th>\n",
              "      <td>AARON,  KARINA</td>\n",
              "      <td>POLICE OFFICER (ASSIGNED AS DETECTIVE)</td>\n",
              "      <td>POLICE</td>\n",
              "      <td>F</td>\n",
              "      <td>Salary</td>\n",
              "      <td>NaN</td>\n",
              "      <td>110796.0</td>\n",
              "      <td>NaN</td>\n",
              "    </tr>\n",
              "    <tr>\n",
              "      <th>4</th>\n",
              "      <td>ABARCA,  FRANCES J</td>\n",
              "      <td>POLICE OFFICER</td>\n",
              "      <td>POLICE</td>\n",
              "      <td>F</td>\n",
              "      <td>Salary</td>\n",
              "      <td>NaN</td>\n",
              "      <td>86730.0</td>\n",
              "      <td>NaN</td>\n",
              "    </tr>\n",
              "    <tr>\n",
              "      <th>7</th>\n",
              "      <td>ABBATE,  TERRY M</td>\n",
              "      <td>POLICE OFFICER</td>\n",
              "      <td>POLICE</td>\n",
              "      <td>F</td>\n",
              "      <td>Salary</td>\n",
              "      <td>NaN</td>\n",
              "      <td>109236.0</td>\n",
              "      <td>NaN</td>\n",
              "    </tr>\n",
              "    <tr>\n",
              "      <th>9</th>\n",
              "      <td>ABBOTT,  CARMELLA</td>\n",
              "      <td>POLICE OFFICER</td>\n",
              "      <td>POLICE</td>\n",
              "      <td>F</td>\n",
              "      <td>Salary</td>\n",
              "      <td>NaN</td>\n",
              "      <td>90990.0</td>\n",
              "      <td>NaN</td>\n",
              "    </tr>\n",
              "  </tbody>\n",
              "</table>\n",
              "</div>"
            ],
            "text/plain": [
              "                 Name                              Job Titles Department  \\\n",
              "0   AARON,  JEFFERY M                                SERGEANT     POLICE   \n",
              "1      AARON,  KARINA  POLICE OFFICER (ASSIGNED AS DETECTIVE)     POLICE   \n",
              "4  ABARCA,  FRANCES J                          POLICE OFFICER     POLICE   \n",
              "7    ABBATE,  TERRY M                          POLICE OFFICER     POLICE   \n",
              "9   ABBOTT,  CARMELLA                          POLICE OFFICER     POLICE   \n",
              "\n",
              "  Full or Part-Time Salary or Hourly  Typical Hours  Annual Salary  \\\n",
              "0                 F           Salary            NaN       122568.0   \n",
              "1                 F           Salary            NaN       110796.0   \n",
              "4                 F           Salary            NaN        86730.0   \n",
              "7                 F           Salary            NaN       109236.0   \n",
              "9                 F           Salary            NaN        90990.0   \n",
              "\n",
              "   Hourly Rate  \n",
              "0          NaN  \n",
              "1          NaN  \n",
              "4          NaN  \n",
              "7          NaN  \n",
              "9          NaN  "
            ]
          },
          "execution_count": 7,
          "metadata": {},
          "output_type": "execute_result"
        }
      ],
      "source": [
        "df_police.head()"
      ]
    },
    {
      "cell_type": "code",
      "execution_count": 8,
      "metadata": {
        "id": "fSPPioc5Hk5Z"
      },
      "outputs": [
        {
          "data": {
            "text/plain": [
              "array(['Name', 'Job Titles', 'Department', 'Full or Part-Time',\n",
              "       'Salary or Hourly', 'Typical Hours', 'Annual Salary',\n",
              "       'Hourly Rate'], dtype=object)"
            ]
          },
          "execution_count": 8,
          "metadata": {},
          "output_type": "execute_result"
        }
      ],
      "source": [
        "df_police.columns.values"
      ]
    },
    {
      "cell_type": "code",
      "execution_count": 9,
      "metadata": {
        "id": "e98EZZJ2IGkJ"
      },
      "outputs": [],
      "source": [
        "df_police.columns = ['Name', 'Titles', 'Department', 'Full or Part-Time','Salary or Hourly', 'Typical Hours', 'Annual Salary','Hourly Rate']"
      ]
    },
    {
      "cell_type": "code",
      "execution_count": 10,
      "metadata": {
        "id": "qxDkGsqSIhnh"
      },
      "outputs": [
        {
          "data": {
            "text/plain": [
              "array(['Name', 'Titles', 'Department', 'Full or Part-Time',\n",
              "       'Salary or Hourly', 'Typical Hours', 'Annual Salary',\n",
              "       'Hourly Rate'], dtype=object)"
            ]
          },
          "execution_count": 10,
          "metadata": {},
          "output_type": "execute_result"
        }
      ],
      "source": [
        "df_police.columns.values"
      ]
    },
    {
      "cell_type": "code",
      "execution_count": 11,
      "metadata": {
        "id": "n2XZEnPFYIbA"
      },
      "outputs": [
        {
          "name": "stdout",
          "output_type": "stream",
          "text": [
            "--> POLICE:\n"
          ]
        },
        {
          "data": {
            "text/plain": [
              "Name                     0\n",
              "Titles                   0\n",
              "Department               0\n",
              "Full or Part-Time        0\n",
              "Salary or Hourly         0\n",
              "Typical Hours        12528\n",
              "Annual Salary            9\n",
              "Hourly Rate          12528\n",
              "dtype: int64"
            ]
          },
          "metadata": {},
          "output_type": "display_data"
        },
        {
          "name": "stdout",
          "output_type": "stream",
          "text": [
            "\n",
            " --.--.--.--.--.--.--.--.--.--. \n",
            "\n"
          ]
        }
      ],
      "source": [
        "print(\"--> POLICE:\")\n",
        "display(df_police.isnull().sum())\n",
        "\n",
        "print(\"\\n\", \"--.\" * 10, \"\\n\")"
      ]
    },
    {
      "cell_type": "code",
      "execution_count": 12,
      "metadata": {
        "id": "70KGB97T9zZF"
      },
      "outputs": [],
      "source": [
        "df_police = df_police[df_police['Annual Salary'].notna()]"
      ]
    },
    {
      "cell_type": "code",
      "execution_count": 13,
      "metadata": {
        "id": "KyzAIlRy-r46"
      },
      "outputs": [
        {
          "name": "stdout",
          "output_type": "stream",
          "text": [
            "--> POLICE:\n"
          ]
        },
        {
          "data": {
            "text/plain": [
              "Name                     0\n",
              "Titles                   0\n",
              "Department               0\n",
              "Full or Part-Time        0\n",
              "Salary or Hourly         0\n",
              "Typical Hours        12528\n",
              "Annual Salary            0\n",
              "Hourly Rate          12528\n",
              "dtype: int64"
            ]
          },
          "metadata": {},
          "output_type": "display_data"
        },
        {
          "name": "stdout",
          "output_type": "stream",
          "text": [
            "\n",
            " --.--.--.--.--.--.--.--.--.--. \n",
            "\n"
          ]
        }
      ],
      "source": [
        "print(\"--> POLICE:\")\n",
        "display(df_police.isnull().sum())\n",
        "\n",
        "print(\"\\n\", \"--.\" * 10, \"\\n\")"
      ]
    },
    {
      "cell_type": "code",
      "execution_count": 14,
      "metadata": {
        "id": "Y93KjehbJOz4"
      },
      "outputs": [
        {
          "name": "stdout",
          "output_type": "stream",
          "text": [
            "Número de cargos:  96\n"
          ]
        }
      ],
      "source": [
        "jobxx = df_police.Titles.unique()\n",
        "print(\"Número de cargos: \",len(jobxx))"
      ]
    },
    {
      "cell_type": "code",
      "execution_count": 23,
      "metadata": {},
      "outputs": [
        {
          "data": {
            "text/html": [
              "<div>\n",
              "<style scoped>\n",
              "    .dataframe tbody tr th:only-of-type {\n",
              "        vertical-align: middle;\n",
              "    }\n",
              "\n",
              "    .dataframe tbody tr th {\n",
              "        vertical-align: top;\n",
              "    }\n",
              "\n",
              "    .dataframe thead th {\n",
              "        text-align: right;\n",
              "    }\n",
              "</style>\n",
              "<table border=\"1\" class=\"dataframe\">\n",
              "  <thead>\n",
              "    <tr style=\"text-align: right;\">\n",
              "      <th></th>\n",
              "      <th>Annual Salary</th>\n",
              "    </tr>\n",
              "    <tr>\n",
              "      <th>Titles</th>\n",
              "      <th></th>\n",
              "    </tr>\n",
              "  </thead>\n",
              "  <tbody>\n",
              "    <tr>\n",
              "      <th>ACCOUNTANT</th>\n",
              "      <td>281064.0</td>\n",
              "    </tr>\n",
              "    <tr>\n",
              "      <th>ADMINISTRATIVE ASST II</th>\n",
              "      <td>364176.0</td>\n",
              "    </tr>\n",
              "    <tr>\n",
              "      <th>ADMINISTRATIVE ASST III</th>\n",
              "      <td>280980.0</td>\n",
              "    </tr>\n",
              "    <tr>\n",
              "      <th>AREA COORD - CAPS</th>\n",
              "      <td>269040.0</td>\n",
              "    </tr>\n",
              "    <tr>\n",
              "      <th>ASSOCIATE STAFF ATTORNEY</th>\n",
              "      <td>64896.0</td>\n",
              "    </tr>\n",
              "    <tr>\n",
              "      <th>...</th>\n",
              "      <td>...</td>\n",
              "    </tr>\n",
              "    <tr>\n",
              "      <th>SUPERINTENDENT'S CHIEF OF STAFF</th>\n",
              "      <td>189252.0</td>\n",
              "    </tr>\n",
              "    <tr>\n",
              "      <th>SUPERVISING PROPERTY CUSTODIAN</th>\n",
              "      <td>170688.0</td>\n",
              "    </tr>\n",
              "    <tr>\n",
              "      <th>TRAINING OFFICER</th>\n",
              "      <td>1284672.0</td>\n",
              "    </tr>\n",
              "    <tr>\n",
              "      <th>WARRANT AND EXTRADITION AIDE</th>\n",
              "      <td>506316.0</td>\n",
              "    </tr>\n",
              "    <tr>\n",
              "      <th>YOUTH SERVICES COORD</th>\n",
              "      <td>302676.0</td>\n",
              "    </tr>\n",
              "  </tbody>\n",
              "</table>\n",
              "<p>96 rows × 1 columns</p>\n",
              "</div>"
            ],
            "text/plain": [
              "                                 Annual Salary\n",
              "Titles                                        \n",
              "ACCOUNTANT                            281064.0\n",
              "ADMINISTRATIVE ASST II                364176.0\n",
              "ADMINISTRATIVE ASST III               280980.0\n",
              "AREA COORD - CAPS                     269040.0\n",
              "ASSOCIATE STAFF ATTORNEY               64896.0\n",
              "...                                        ...\n",
              "SUPERINTENDENT'S CHIEF OF STAFF       189252.0\n",
              "SUPERVISING PROPERTY CUSTODIAN        170688.0\n",
              "TRAINING OFFICER                     1284672.0\n",
              "WARRANT AND EXTRADITION AIDE          506316.0\n",
              "YOUTH SERVICES COORD                  302676.0\n",
              "\n",
              "[96 rows x 1 columns]"
            ]
          },
          "execution_count": 23,
          "metadata": {},
          "output_type": "execute_result"
        }
      ],
      "source": [
        "df_police.groupby('Titles')[['Annual Salary']].sum()"
      ]
    },
    {
      "cell_type": "code",
      "execution_count": 27,
      "metadata": {},
      "outputs": [
        {
          "data": {
            "text/plain": [
              "Titles\n",
              "ACCOUNTANT                          3\n",
              "ADMINISTRATIVE ASST II              5\n",
              "ADMINISTRATIVE ASST III             3\n",
              "AREA COORD - CAPS                   3\n",
              "ASSOCIATE STAFF ATTORNEY            1\n",
              "                                   ..\n",
              "SUPERINTENDENT'S CHIEF OF STAFF     1\n",
              "SUPERVISING PROPERTY CUSTODIAN      2\n",
              "TRAINING OFFICER                   13\n",
              "WARRANT AND EXTRADITION AIDE        6\n",
              "YOUTH SERVICES COORD                3\n",
              "Length: 96, dtype: int64"
            ]
          },
          "execution_count": 27,
          "metadata": {},
          "output_type": "execute_result"
        }
      ],
      "source": [
        "df_police.groupby('Titles').size()"
      ]
    },
    {
      "cell_type": "code",
      "execution_count": 39,
      "metadata": {},
      "outputs": [],
      "source": [
        "S_ID = df_police[df_police['Titles']!='SERGEANT'].index\n",
        "SARG = df_police.drop(S_ID)"
      ]
    },
    {
      "cell_type": "code",
      "execution_count": 47,
      "metadata": {},
      "outputs": [
        {
          "name": "stdout",
          "output_type": "stream",
          "text": [
            "Salário médio anual Sargento: US$  125823.95 Salário máximo anual Sargento: US$  130596.0 Salário mínimo anual Sargento: US$  116094.0\n"
          ]
        }
      ],
      "source": [
        "SAR_MED = SARG['Annual Salary'].mean()\n",
        "SAR_MAX = SARG['Annual Salary'].max()\n",
        "SAR_MIN = SARG['Annual Salary'].min()\n",
        "print(\"Salário médio anual Sargento: US$ \", round(SAR_MED,2), \"Salário máximo anual Sargento: US$ \", round(SAR_MAX,2),  \"Salário mínimo anual Sargento: US$ \", round(SAR_MIN,2), )"
      ]
    },
    {
      "cell_type": "code",
      "execution_count": 50,
      "metadata": {},
      "outputs": [
        {
          "name": "stdout",
          "output_type": "stream",
          "text": [
            "Salário médio anual policial: US$  96396.93 Salário máximo anual policial: US$  109236.0 Salário mínimo anual policial: US$  54672.0\n"
          ]
        }
      ],
      "source": [
        "P_ID = df_police[df_police['Titles']!='POLICE OFFICER'].index\n",
        "POLO = df_police.drop(P_ID)\n",
        "POLO_MED = POLO['Annual Salary'].mean()\n",
        "POLO_MAX = POLO['Annual Salary'].max()\n",
        "POLO_MIN = POLO['Annual Salary'].min()\n",
        "print(\"Salário médio anual policial: US$ \", round(POLO_MED,2), \"Salário máximo anual policial: US$ \", round(POLO_MAX,2),  \"Salário mínimo anual policial: US$ \", round(POLO_MIN,2), )"
      ]
    },
    {
      "cell_type": "code",
      "execution_count": 61,
      "metadata": {},
      "outputs": [
        {
          "ename": "ValueError",
          "evalue": "min() arg is an empty sequence",
          "output_type": "error",
          "traceback": [
            "\u001b[1;31m---------------------------------------------------------------------------\u001b[0m",
            "\u001b[1;31mValueError\u001b[0m                                Traceback (most recent call last)",
            "\u001b[1;32mc:\\Users\\AGE9\\Desktop\\Software\\Notebook\\ChicagoSalary\\Chicago.ipynb Cell 20'\u001b[0m in \u001b[0;36m<cell line: 4>\u001b[1;34m()\u001b[0m\n\u001b[0;32m      <a href='vscode-notebook-cell:/c%3A/Users/AGE9/Desktop/Software/Notebook/ChicagoSalary/Chicago.ipynb#ch0000025?line=1'>2</a>\u001b[0m cargo \u001b[39m=\u001b[39m m\u001b[39m.\u001b[39mTitles\u001b[39m.\u001b[39munique()\n\u001b[0;32m      <a href='vscode-notebook-cell:/c%3A/Users/AGE9/Desktop/Software/Notebook/ChicagoSalary/Chicago.ipynb#ch0000025?line=2'>3</a>\u001b[0m sal \u001b[39m=\u001b[39m m\u001b[39m.\u001b[39mgroupby(\u001b[39m'\u001b[39m\u001b[39mTitles\u001b[39m\u001b[39m'\u001b[39m)[\u001b[39m'\u001b[39m\u001b[39mAnnual Salary\u001b[39m\u001b[39m'\u001b[39m]\u001b[39m.\u001b[39mmean()\n\u001b[1;32m----> <a href='vscode-notebook-cell:/c%3A/Users/AGE9/Desktop/Software/Notebook/ChicagoSalary/Chicago.ipynb#ch0000025?line=3'>4</a>\u001b[0m ax \u001b[39m=\u001b[39m sns\u001b[39m.\u001b[39;49mbarplot(x\u001b[39m=\u001b[39;49mcargo, y\u001b[39m=\u001b[39;49msal)\n\u001b[0;32m      <a href='vscode-notebook-cell:/c%3A/Users/AGE9/Desktop/Software/Notebook/ChicagoSalary/Chicago.ipynb#ch0000025?line=4'>5</a>\u001b[0m plt\u001b[39m.\u001b[39mxticks(rotation\u001b[39m=\u001b[39m\u001b[39m90\u001b[39m)\n\u001b[0;32m      <a href='vscode-notebook-cell:/c%3A/Users/AGE9/Desktop/Software/Notebook/ChicagoSalary/Chicago.ipynb#ch0000025?line=5'>6</a>\u001b[0m plt\u001b[39m.\u001b[39mlegend(title\u001b[39m=\u001b[39m\u001b[39m\"\u001b[39m\u001b[39mAverage Pay\u001b[39m\u001b[39m\"\u001b[39m)\n",
            "File \u001b[1;32m~\\AppData\\Roaming\\Python\\Python39\\site-packages\\seaborn\\_decorators.py:46\u001b[0m, in \u001b[0;36m_deprecate_positional_args.<locals>.inner_f\u001b[1;34m(*args, **kwargs)\u001b[0m\n\u001b[0;32m     36\u001b[0m     warnings\u001b[39m.\u001b[39mwarn(\n\u001b[0;32m     37\u001b[0m         \u001b[39m\"\u001b[39m\u001b[39mPass the following variable\u001b[39m\u001b[39m{}\u001b[39;00m\u001b[39m as \u001b[39m\u001b[39m{}\u001b[39;00m\u001b[39mkeyword arg\u001b[39m\u001b[39m{}\u001b[39;00m\u001b[39m: \u001b[39m\u001b[39m{}\u001b[39;00m\u001b[39m. \u001b[39m\u001b[39m\"\u001b[39m\n\u001b[0;32m     38\u001b[0m         \u001b[39m\"\u001b[39m\u001b[39mFrom version 0.12, the only valid positional argument \u001b[39m\u001b[39m\"\u001b[39m\n\u001b[1;32m   (...)\u001b[0m\n\u001b[0;32m     43\u001b[0m         \u001b[39mFutureWarning\u001b[39;00m\n\u001b[0;32m     44\u001b[0m     )\n\u001b[0;32m     45\u001b[0m kwargs\u001b[39m.\u001b[39mupdate({k: arg \u001b[39mfor\u001b[39;00m k, arg \u001b[39min\u001b[39;00m \u001b[39mzip\u001b[39m(sig\u001b[39m.\u001b[39mparameters, args)})\n\u001b[1;32m---> 46\u001b[0m \u001b[39mreturn\u001b[39;00m f(\u001b[39m*\u001b[39m\u001b[39m*\u001b[39mkwargs)\n",
            "File \u001b[1;32m~\\AppData\\Roaming\\Python\\Python39\\site-packages\\seaborn\\categorical.py:3182\u001b[0m, in \u001b[0;36mbarplot\u001b[1;34m(x, y, hue, data, order, hue_order, estimator, ci, n_boot, units, seed, orient, color, palette, saturation, errcolor, errwidth, capsize, dodge, ax, **kwargs)\u001b[0m\n\u001b[0;32m   3169\u001b[0m \u001b[39m@_deprecate_positional_args\u001b[39m\n\u001b[0;32m   3170\u001b[0m \u001b[39mdef\u001b[39;00m \u001b[39mbarplot\u001b[39m(\n\u001b[0;32m   3171\u001b[0m     \u001b[39m*\u001b[39m,\n\u001b[1;32m   (...)\u001b[0m\n\u001b[0;32m   3179\u001b[0m     \u001b[39m*\u001b[39m\u001b[39m*\u001b[39mkwargs,\n\u001b[0;32m   3180\u001b[0m ):\n\u001b[1;32m-> 3182\u001b[0m     plotter \u001b[39m=\u001b[39m _BarPlotter(x, y, hue, data, order, hue_order,\n\u001b[0;32m   3183\u001b[0m                           estimator, ci, n_boot, units, seed,\n\u001b[0;32m   3184\u001b[0m                           orient, color, palette, saturation,\n\u001b[0;32m   3185\u001b[0m                           errcolor, errwidth, capsize, dodge)\n\u001b[0;32m   3187\u001b[0m     \u001b[39mif\u001b[39;00m ax \u001b[39mis\u001b[39;00m \u001b[39mNone\u001b[39;00m:\n\u001b[0;32m   3188\u001b[0m         ax \u001b[39m=\u001b[39m plt\u001b[39m.\u001b[39mgca()\n",
            "File \u001b[1;32m~\\AppData\\Roaming\\Python\\Python39\\site-packages\\seaborn\\categorical.py:1586\u001b[0m, in \u001b[0;36m_BarPlotter.__init__\u001b[1;34m(self, x, y, hue, data, order, hue_order, estimator, ci, n_boot, units, seed, orient, color, palette, saturation, errcolor, errwidth, capsize, dodge)\u001b[0m\n\u001b[0;32m   1583\u001b[0m \u001b[39m\"\"\"Initialize the plotter.\"\"\"\u001b[39;00m\n\u001b[0;32m   1584\u001b[0m \u001b[39mself\u001b[39m\u001b[39m.\u001b[39mestablish_variables(x, y, hue, data, orient,\n\u001b[0;32m   1585\u001b[0m                          order, hue_order, units)\n\u001b[1;32m-> 1586\u001b[0m \u001b[39mself\u001b[39;49m\u001b[39m.\u001b[39;49mestablish_colors(color, palette, saturation)\n\u001b[0;32m   1587\u001b[0m \u001b[39mself\u001b[39m\u001b[39m.\u001b[39mestimate_statistic(estimator, ci, n_boot, seed)\n\u001b[0;32m   1589\u001b[0m \u001b[39mself\u001b[39m\u001b[39m.\u001b[39mdodge \u001b[39m=\u001b[39m dodge\n",
            "File \u001b[1;32m~\\AppData\\Roaming\\Python\\Python39\\site-packages\\seaborn\\categorical.py:319\u001b[0m, in \u001b[0;36m_CategoricalPlotter.establish_colors\u001b[1;34m(self, color, palette, saturation)\u001b[0m\n\u001b[0;32m    317\u001b[0m \u001b[39m# Determine the gray color to use for the lines framing the plot\u001b[39;00m\n\u001b[0;32m    318\u001b[0m light_vals \u001b[39m=\u001b[39m [colorsys\u001b[39m.\u001b[39mrgb_to_hls(\u001b[39m*\u001b[39mc)[\u001b[39m1\u001b[39m] \u001b[39mfor\u001b[39;00m c \u001b[39min\u001b[39;00m rgb_colors]\n\u001b[1;32m--> 319\u001b[0m lum \u001b[39m=\u001b[39m \u001b[39mmin\u001b[39;49m(light_vals) \u001b[39m*\u001b[39m \u001b[39m.6\u001b[39m\n\u001b[0;32m    320\u001b[0m gray \u001b[39m=\u001b[39m mpl\u001b[39m.\u001b[39mcolors\u001b[39m.\u001b[39mrgb2hex((lum, lum, lum))\n\u001b[0;32m    322\u001b[0m \u001b[39m# Assign object attributes\u001b[39;00m\n",
            "\u001b[1;31mValueError\u001b[0m: min() arg is an empty sequence"
          ]
        }
      ],
      "source": [
        "m = pd.merge(POLO, SARG)\n",
        "cargo = m.Titles.unique()\n",
        "sal = m.groupby('Titles')['Annual Salary'].mean()\n",
        "ax = sns.barplot(x=cargo, y=sal)\n",
        "plt.xticks(rotation=90)\n",
        "plt.legend(title=\"Average Pay\")\n",
        "plt.show()"
      ]
    },
    {
      "cell_type": "code",
      "execution_count": 57,
      "metadata": {
        "id": "cFp6dkEEYqCh"
      },
      "outputs": [
        {
          "name": "stderr",
          "output_type": "stream",
          "text": [
            "No handles with labels found to put in legend.\n"
          ]
        },
        {
          "data": {
            "image/png": "[encoded data removed]",
            "text/plain": [
              "<Figure size 432x288 with 1 Axes>"
            ]
          },
          "metadata": {
            "needs_background": "light"
          },
          "output_type": "display_data"
        }
      ],
      "source": [
        "jobxx = df_police.Titles.unique()\n",
        "salary_police_mean = df_police.groupby('Titles')['Annual Salary'].mean()\n",
        "ax = sns.barplot(x=jobxx, y=salary_police_mean)\n",
        "plt.xticks(rotation=90)\n",
        "plt.legend(title=\"Average Pay\")\n",
        "plt.show()"
      ]
    },
    {
      "cell_type": "code",
      "execution_count": null,
      "metadata": {
        "id": "nVPegv59VwhO"
      },
      "outputs": [],
      "source": [
        "msalary = df_police['Annual Salary'].mean()\n",
        "maxsalary = df_police['Annual Salary'].max()\n",
        "minsalary = df_police['Annual Salary'].min()\n",
        "print(\"Média de salário: \", msalary, \"Máximo de salário: \" , maxsalary, \"Mínimo de salário: \", minsalary)"
      ]
    },
    {
      "cell_type": "code",
      "execution_count": null,
      "metadata": {
        "id": "NK82v-nnc9Gj"
      },
      "outputs": [],
      "source": [
        "salary_police_mean = df_police.groupby('Titles')['Annual Salary'].mean()\n",
        "ax = sns.barplot(x=jobxx, y=salary_police_mean)\n",
        "plt.xticks(rotation=90)\n",
        "plt.legend(title=\"Average Pay\")\n",
        "plt.show()"
      ]
    }
  ],
  "metadata": {
    "colab": {
      "collapsed_sections": [],
      "name": "Chicago.ipynb",
      "provenance": []
    },
    "kernelspec": {
      "display_name": "Python 3.9.2 64-bit",
      "language": "python",
      "name": "python3"
    },
    "language_info": {
      "codemirror_mode": {
        "name": "ipython",
        "version": 3
      },
      "file_extension": ".py",
      "mimetype": "text/x-python",
      "name": "python",
      "nbconvert_exporter": "python",
      "pygments_lexer": "ipython3",
      "version": "3.9.2"
    },
    "vscode": {
      "interpreter": {
        "hash": "11938c6bc6919ae2720b4d5011047913343b08a43b18698fd82dedb0d4417594"
      }
    }
  },
  "nbformat": 4,
  "nbformat_minor": 0
}
